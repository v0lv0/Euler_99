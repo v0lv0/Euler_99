{
 "cells": [
  {
   "cell_type": "markdown",
   "metadata": {},
   "source": [
    "# Large sum\n",
    "Work out the first ten digits of the sum of the following one-hundred 50-digit numbers."
   ]
  },
  {
   "cell_type": "code",
   "execution_count": 1,
   "metadata": {},
   "outputs": [
    {
     "name": "stdout",
     "output_type": "stream",
     "text": [
      "4696151770520435778723530486685293271774701537531086\n",
      "52\n"
     ]
    }
   ],
   "source": [
    "f = open(\"13.txt\", \"r\")\n",
    "\n",
    "final_sum = {}\n",
    "lines = f.readlines()\n",
    "\n",
    "def add_to_dig(dig, num):\n",
    "    if dig not in final_sum:\n",
    "        final_sum[dig] = num\n",
    "    else:\n",
    "        final_sum[dig] += num\n",
    "\n",
    "    if final_sum[dig] >= 10:\n",
    "        final_sum[dig] -= 10\n",
    "        add_to_dig(dig+1, 1)\n",
    "\n",
    "\n",
    "for line in lines:\n",
    "    line = line.strip()\n",
    "    for i in range(len(line)):\n",
    "        cur = int(line[i])\n",
    "        add_to_dig(i, cur)\n",
    "        \n",
    "max_key = max(final_sum.keys())\n",
    "for i in range(max_key, -1, -1):\n",
    "    print(final_sum[i], end=\"\")\n",
    "print()\n",
    "print( len(final_sum.keys()) )\n"
   ]
  },
  {
   "cell_type": "code",
   "execution_count": 4,
   "metadata": {},
   "outputs": [
    {
     "name": "stdout",
     "output_type": "stream",
     "text": [
      "5537376230\n"
     ]
    }
   ],
   "source": [
    "f = open(\"13.txt\", \"r\")\n",
    "lines = f.readlines()\n",
    "total = 0\n",
    "for line in lines:\n",
    "    total += int(line)\n",
    "print(str(total)[0:10])\n"
   ]
  }
 ],
 "metadata": {
  "kernelspec": {
   "display_name": "Python 3",
   "language": "python",
   "name": "python3"
  },
  "language_info": {
   "codemirror_mode": {
    "name": "ipython",
    "version": 3
   },
   "file_extension": ".py",
   "mimetype": "text/x-python",
   "name": "python",
   "nbconvert_exporter": "python",
   "pygments_lexer": "ipython3",
   "version": "3.13.0"
  }
 },
 "nbformat": 4,
 "nbformat_minor": 2
}
