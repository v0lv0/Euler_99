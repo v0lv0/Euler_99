{
 "cells": [
  {
   "cell_type": "markdown",
   "metadata": {},
   "source": [
    "# Smallest Multiple\n",
    "\n",
    "What is the smallest positive number that is evenly divisible by all of the numbers from 1 to 20\n"
   ]
  },
  {
   "cell_type": "code",
   "execution_count": 10,
   "metadata": {},
   "outputs": [
    {
     "data": {
      "text/plain": [
       "232792560"
      ]
     },
     "execution_count": 10,
     "metadata": {},
     "output_type": "execute_result"
    }
   ],
   "source": [
    "# 2 2 5\n",
    "# 19\n",
    "# 2 3 3\n",
    "# 17\n",
    "# 2 2 2 2\n",
    "# 3 5\n",
    "# 2 7\n",
    "# 13\n",
    "# 2 2 3\n",
    "# 11\n",
    "# 2 5\n",
    "# 3 3\n",
    "# 2 2 2\n",
    "# 7\n",
    "# 2 3\n",
    "# 5\n",
    "# 2 2\n",
    "# 3\n",
    "# 2\n",
    "# 1\n",
    "\n",
    "2*2*2*2*3*3*5*7*11*13*17*19"
   ]
  }
 ],
 "metadata": {
  "kernelspec": {
   "display_name": "Python 3",
   "language": "python",
   "name": "python3"
  },
  "language_info": {
   "codemirror_mode": {
    "name": "ipython",
    "version": 3
   },
   "file_extension": ".py",
   "mimetype": "text/x-python",
   "name": "python",
   "nbconvert_exporter": "python",
   "pygments_lexer": "ipython3",
   "version": "3.13.0"
  }
 },
 "nbformat": 4,
 "nbformat_minor": 2
}
