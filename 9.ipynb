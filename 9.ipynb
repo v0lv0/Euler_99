{
 "cells": [
  {
   "cell_type": "markdown",
   "metadata": {},
   "source": [
    "# Special Pythagorean Triplet\n",
    "\n",
    "find $abc$ that solves \n",
    "\n",
    "$a+b+c=1000, a^2+b^2=c^2$"
   ]
  },
  {
   "cell_type": "code",
   "execution_count": 3,
   "metadata": {},
   "outputs": [
    {
     "name": "stdout",
     "output_type": "stream",
     "text": [
      "0\n",
      "31875000\n",
      "31875000\n",
      "0\n"
     ]
    }
   ],
   "source": [
    "for a in range(1000):\n",
    "    for b in range(1000):\n",
    "        if a**2+b**2 == (1000-a-b)**2:\n",
    "            print(a*b*(1000-a-b))\n"
   ]
  }
 ],
 "metadata": {
  "kernelspec": {
   "display_name": "Python 3",
   "language": "python",
   "name": "python3"
  },
  "language_info": {
   "codemirror_mode": {
    "name": "ipython",
    "version": 3
   },
   "file_extension": ".py",
   "mimetype": "text/x-python",
   "name": "python",
   "nbconvert_exporter": "python",
   "pygments_lexer": "ipython3",
   "version": "3.13.0"
  }
 },
 "nbformat": 4,
 "nbformat_minor": 2
}
