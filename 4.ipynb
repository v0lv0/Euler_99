{
 "cells": [
  {
   "cell_type": "markdown",
   "metadata": {},
   "source": [
    "# Largest Palindrome Product\n",
    "\n",
    "Find the largest palindrome made from the product of two $3$-digit numbers.\n"
   ]
  },
  {
   "cell_type": "code",
   "execution_count": 1,
   "metadata": {},
   "outputs": [
    {
     "name": "stdout",
     "output_type": "stream",
     "text": [
      "906609\n"
     ]
    }
   ],
   "source": [
    "import math\n",
    "def is_pal(n):\n",
    "    # l = [int(x) for x in str(n)]\n",
    "    l = str(n)\n",
    "    for i in range(int(len(l)/2)):\n",
    "        # print(l[i] , l[-i-1])\n",
    "        if l[i] != l[-i-1]:\n",
    "            return False\n",
    "    return True\n",
    "\n",
    "m = 0\n",
    "for a in range(999, 100, -1 ):\n",
    "    for b in range(999, 100, -1):\n",
    "        if is_pal( a*b ):\n",
    "            m = max(m, a*b)\n",
    "\n",
    "print(m)"
   ]
  }
 ],
 "metadata": {
  "kernelspec": {
   "display_name": "Python 3",
   "language": "python",
   "name": "python3"
  },
  "language_info": {
   "codemirror_mode": {
    "name": "ipython",
    "version": 3
   },
   "file_extension": ".py",
   "mimetype": "text/x-python",
   "name": "python",
   "nbconvert_exporter": "python",
   "pygments_lexer": "ipython3",
   "version": "3.13.0"
  }
 },
 "nbformat": 4,
 "nbformat_minor": 2
}
