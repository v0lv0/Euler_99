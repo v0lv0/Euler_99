{
 "cells": [
  {
   "cell_type": "markdown",
   "metadata": {},
   "source": [
    "# Longest Collatz Sequence\n",
    "\n",
    "longest chain under 1 mil"
   ]
  },
  {
   "cell_type": "code",
   "execution_count": 1,
   "metadata": {},
   "outputs": [
    {
     "name": "stdout",
     "output_type": "stream",
     "text": [
      "524 837799\n"
     ]
    }
   ],
   "source": [
    "\n",
    "def next_num(n):\n",
    "    if n % 2 == 0:\n",
    "        return n // 2\n",
    "    else:\n",
    "        return 3 * n + 1\n",
    "    \n",
    "def collatz(n):\n",
    "    count = 0\n",
    "    while n != 1:\n",
    "        n = next_num(n)\n",
    "        count += 1\n",
    "    return count\n",
    "\n",
    "max_count = 0\n",
    "max_i = 0\n",
    "for i in range(1, 1000000):\n",
    "    count = collatz(i)\n",
    "    if count > max_count:\n",
    "        max_count = count\n",
    "        max_i = i\n",
    "\n",
    "print(max_count, max_i)\n",
    "\n",
    "\n",
    "\n",
    "\n"
   ]
  }
 ],
 "metadata": {
  "kernelspec": {
   "display_name": "Python 3",
   "language": "python",
   "name": "python3"
  },
  "language_info": {
   "codemirror_mode": {
    "name": "ipython",
    "version": 3
   },
   "file_extension": ".py",
   "mimetype": "text/x-python",
   "name": "python",
   "nbconvert_exporter": "python",
   "pygments_lexer": "ipython3",
   "version": "3.13.0"
  }
 },
 "nbformat": 4,
 "nbformat_minor": 2
}
