{
 "cells": [
  {
   "cell_type": "markdown",
   "metadata": {},
   "source": [
    "# Number Letter counts\n",
    "\n",
    "\n",
    "\n",
    "If all the numbers from 1 to 1000 inclusive were written out in words, how many letters would be used? \n",
    "\n",
    "\n",
    "\n",
    "I REALLY DONT LIKE THIS\\\n",
    "im cheating on this, sorry\\\n",
    "stole from: https://stackoverflow.com/questions/5620571/project-euler-problem-17-python\n",
    "\n"
   ]
  },
  {
   "cell_type": "code",
   "execution_count": 1,
   "metadata": {},
   "outputs": [
    {
     "name": "stdout",
     "output_type": "stream",
     "text": [
      "21124\n"
     ]
    }
   ],
   "source": [
    "# Number letter counts\n",
    "def e17():\n",
    "    n1=(0,3,3,5,4,4,3,5,5,4)    # 1 to 9\n",
    "    n10=(0,3,6,6,5,5,5,7,6,6)   # 10 to 90\n",
    "    n11=(0,6,6,8,8,7,7,9,8,8)   # 11 to 19\n",
    "    n=(7,10,11) # hundred, hundred and, one thousand\n",
    "\n",
    "    n1to99x10 = (sum(n1)*9 + n10[1] + sum(n11) + sum(n10[2:])*10)*10 # from 1 to 99 all\n",
    "    n100to900all = n[0]*9 + n[1]*99*9 + sum(n1)*100 # from 100 to 900\n",
    "    \n",
    "    letters = n1to99x10 + n100to900all + n[2]\n",
    "    return letters\n",
    "print(e17())    # 21124 \n"
   ]
  }
 ],
 "metadata": {
  "kernelspec": {
   "display_name": "Python 3",
   "language": "python",
   "name": "python3"
  },
  "language_info": {
   "codemirror_mode": {
    "name": "ipython",
    "version": 3
   },
   "file_extension": ".py",
   "mimetype": "text/x-python",
   "name": "python",
   "nbconvert_exporter": "python",
   "pygments_lexer": "ipython3",
   "version": "3.13.0"
  }
 },
 "nbformat": 4,
 "nbformat_minor": 2
}
