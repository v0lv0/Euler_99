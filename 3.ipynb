{
 "cells": [
  {
   "cell_type": "markdown",
   "metadata": {},
   "source": [
    "# Largest Prime Factor\n",
    "\n",
    "13195 -> 5,7,13,29\n",
    "\n",
    "Q: what's the largest prime factor for 600851475143"
   ]
  },
  {
   "cell_type": "code",
   "execution_count": 10,
   "metadata": {},
   "outputs": [],
   "source": [
    "def is_prime(n):\n",
    "    if n <= 1:\n",
    "        return False\n",
    "    for i in range(2, int(n**0.5) + 1):\n",
    "        if n % i == 0:\n",
    "            return False\n",
    "    return True"
   ]
  },
  {
   "cell_type": "code",
   "execution_count": 13,
   "metadata": {},
   "outputs": [
    {
     "name": "stdout",
     "output_type": "stream",
     "text": [
      "775146.0992245268\n",
      "6857\n"
     ]
    }
   ],
   "source": [
    "from math import sqrt\n",
    "import sys\n",
    "n = 600851475143\n",
    "np = sqrt(n)\n",
    "print (np)\n",
    "\n",
    "\n",
    "arr = []\n",
    "for i in range (50, int(np)):\n",
    "    if n % i == 0:\n",
    "        arr.append(i)\n",
    "arr.reverse()\n",
    "for a in arr:\n",
    "    if (is_prime(a)):\n",
    "        print(a)\n",
    "        break\n"
   ]
  }
 ],
 "metadata": {
  "kernelspec": {
   "display_name": "Python 3",
   "language": "python",
   "name": "python3"
  },
  "language_info": {
   "codemirror_mode": {
    "name": "ipython",
    "version": 3
   },
   "file_extension": ".py",
   "mimetype": "text/x-python",
   "name": "python",
   "nbconvert_exporter": "python",
   "pygments_lexer": "ipython3",
   "version": "3.13.0"
  }
 },
 "nbformat": 4,
 "nbformat_minor": 2
}
